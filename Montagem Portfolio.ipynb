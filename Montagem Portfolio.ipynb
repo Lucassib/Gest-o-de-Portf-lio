{
 "metadata": {
  "language_info": {
   "codemirror_mode": {
    "name": "ipython",
    "version": 3
   },
   "file_extension": ".py",
   "mimetype": "text/x-python",
   "name": "python",
   "nbconvert_exporter": "python",
   "pygments_lexer": "ipython3",
   "version": "3.8.7-final"
  },
  "orig_nbformat": 2,
  "kernelspec": {
   "name": "python3",
   "display_name": "Python 3.8.7 64-bit",
   "metadata": {
    "interpreter": {
     "hash": "2c1979687e94a962c790cd254b0e68a50830eb6ef64c271d6b5df4cb2cf69b1a"
    }
   }
  }
 },
 "nbformat": 4,
 "nbformat_minor": 2,
 "cells": [
  {
   "cell_type": "code",
   "execution_count": 3,
   "metadata": {},
   "outputs": [],
   "source": [
    "import numpy as np\n",
    "import matplotlib.pyplot as plt\n",
    "%matplotlib inline\n",
    "import pandas as pd"
   ]
  },
  {
   "cell_type": "code",
   "execution_count": 79,
   "metadata": {},
   "outputs": [],
   "source": [
    "data2017 = pd.read_excel('Métricas.xlsx',sheet_name=0)\n",
    "data2018 = pd.read_excel('Métricas.xlsx',sheet_name=1)\n",
    "data2019 = pd.read_excel('Métricas.xlsx',sheet_name=2)"
   ]
  },
  {
   "cell_type": "code",
   "execution_count": 80,
   "metadata": {},
   "outputs": [],
   "source": [
    "label_2017=data2017.values[:,3]\n",
    "label_2018=data2018.values[:,3]\n",
    "label_2019=data2019.values[:,3]\n",
    "n2017=data2017.values[:,0]\n",
    "n2018=data2018.values[:,0]\n",
    "n2019=data2019.values[:,0]\n",
    "rent_2017=data2017.values[:,4]\n",
    "rent_2018=data2018.values[:,4]\n",
    "rent_2019=data2019.values[:,4]\n",
    "pl_2017=data2017.values[:,1]\n",
    "pl_2018=data2018.values[:,1]\n",
    "pl_2019=data2019.values[:,1]\n",
    "roe_2017=data2017.values[:,2]\n",
    "roe_2018=data2018.values[:,2]\n",
    "roe_2019=data2019.values[:,2]"
   ]
  },
  {
   "cell_type": "code",
   "execution_count": 21,
   "metadata": {},
   "outputs": [],
   "source": [
    "######## Ano de 2017\n",
    "CLUSTER_2017=[]\n",
    "for j in range(10):\n",
    "    CLUSTER_2017.append([])\n",
    "for i in range(len(label_2017)):\n",
    "    for j in range(10):\n",
    "        if label_2017[i] == j:\n",
    "            CLUSTER_2017[j].append(n2017[i])\n",
    "######## Ano de 2018\n",
    "CLUSTER_2018=[]\n",
    "for j in range(10):\n",
    "    CLUSTER_2018.append([])\n",
    "for i in range(len(label_2018)):\n",
    "    for j in range(10):\n",
    "        if label_2018[i] == j:\n",
    "            CLUSTER_2018[j].append(n2018[i])\n",
    "######## Ano de 2019\n",
    "CLUSTER_2019=[]\n",
    "for j in range(10):\n",
    "    CLUSTER_2019.append([])\n",
    "for i in range(len(label_2019)):\n",
    "    for j in range(10):\n",
    "        if label_2019[i] == j:\n",
    "            CLUSTER_2019[j].append(n2019[i])"
   ]
  },
  {
   "source": [
    "RENTABILIDADE MÉDIA DAS AÇÕES DO IBOVESPA E RENTABILIDADE DO IBOVESPA"
   ],
   "cell_type": "markdown",
   "metadata": {}
  },
  {
   "cell_type": "code",
   "execution_count": 25,
   "metadata": {},
   "outputs": [],
   "source": [
    "bova = [1.1704394582134192, 1.2996586562075974, 0.9986869614085797]\n",
    "mercado=[np.sum(rent_2017)/len(rent_2017),np.sum(rent_2018)/len(rent_2018),np.sum(rent_2019)/len(rent_2019)]"
   ]
  },
  {
   "source": [
    "RENTABILIDADE DAS TOP 10 MENORES PREÇO/LUCRO DA IBOVESPA"
   ],
   "cell_type": "markdown",
   "metadata": {}
  },
  {
   "cell_type": "code",
   "execution_count": 39,
   "metadata": {},
   "outputs": [
    {
     "output_type": "execute_result",
     "data": {
      "text/plain": [
       "(array(['BRAP4', 'SMLS3', 'BBAS3', 'BRKM5', 'MRVE3', 'ITSA4', 'CMIG4',\n",
       "        'SBSP3', 'EGIE3', 'ITUB4'], dtype='<U5'),\n",
       " array([2, 5, 1, 8, 4, 1, 6, 0, 3, 1], dtype=object),\n",
       " 1.2689484048456023)"
      ]
     },
     "metadata": {},
     "execution_count": 39
    }
   ],
   "source": [
    "top10_pl_2017 = []\n",
    "aux=pl_2017.copy()\n",
    "for i in range(len(aux)):\n",
    "    if aux[i]<0:\n",
    "        aux[i]=10000\n",
    "for i in range(10):\n",
    "    top10_pl_2017.append(rent_2017[np.argmin(aux)])\n",
    "    aux[np.argmin(aux)]=10000\n",
    "nomes=[]\n",
    "pos=[]\n",
    "for i in range(10):\n",
    "    J = np.where(rent_2017==top10_pl_2017[i])[0][0]\n",
    "    nomes.append(n2017[J])\n",
    "    pos.append(J)\n",
    "rent_top10_pl_2017 = np.sum(top10_pl_2017)/10\n",
    "np.array(nomes),label_2017[pos],rent_top10_pl_2017"
   ]
  },
  {
   "cell_type": "code",
   "execution_count": 40,
   "metadata": {},
   "outputs": [
    {
     "output_type": "execute_result",
     "data": {
      "text/plain": [
       "(array(['ELET3', 'CSNA3', 'MRFG3', 'ELET6', 'SMLS3', 'ENBR3', 'VIVT3',\n",
       "        'MRVE3', 'CIEL3', 'TAEE11'], dtype='<U6'),\n",
       " array([8, 3, 6, 8, 2, 9, 0, 5, 9, 9], dtype=object),\n",
       " 1.4518919071622052)"
      ]
     },
     "metadata": {},
     "execution_count": 40
    }
   ],
   "source": [
    "top10_pl_2018 = []\n",
    "aux=pl_2018.copy()\n",
    "for i in range(len(aux)):\n",
    "    if aux[i]<0:\n",
    "        aux[i]=10000\n",
    "for i in range(10):\n",
    "    top10_pl_2018.append(rent_2018[np.argmin(aux)])\n",
    "    aux[np.argmin(aux)]=10000\n",
    "nomes=[]\n",
    "pos=[]\n",
    "for i in range(10):\n",
    "    J = np.where(rent_2018==top10_pl_2018[i])[0][0]\n",
    "    nomes.append(n2018[J])\n",
    "    pos.append(J)\n",
    "rent_top10_pl_2018 = np.sum(top10_pl_2018)/10\n",
    "np.array(nomes),label_2018[pos],rent_top10_pl_2018"
   ]
  },
  {
   "cell_type": "code",
   "execution_count": 41,
   "metadata": {},
   "outputs": [
    {
     "output_type": "execute_result",
     "data": {
      "text/plain": [
       "(array(['ELET3', 'ELET6', 'SMLS3', 'CMIG4', 'BBAS3', 'EQTL3', 'ENBR3',\n",
       "        'BBSE3', 'TIMS3', 'TAEE11'], dtype='<U6'),\n",
       " array([2, 2, 4, 2, 6, 3, 2, 8, 9, 2], dtype=object),\n",
       " 0.9676229150196269)"
      ]
     },
     "metadata": {},
     "execution_count": 41
    }
   ],
   "source": [
    "top10_pl_2019 = []\n",
    "aux=pl_2019.copy()\n",
    "for i in range(len(aux)):\n",
    "    if aux[i]<0:\n",
    "        aux[i]=10000\n",
    "for i in range(10):\n",
    "    top10_pl_2019.append(rent_2019[np.argmin(aux)])\n",
    "    aux[np.argmin(aux)]=10000\n",
    "nomes=[]\n",
    "pos=[]\n",
    "for i in range(10):\n",
    "    J = np.where(rent_2019==top10_pl_2019[i])[0][0]\n",
    "    nomes.append(n2019[J])\n",
    "    pos.append(J)\n",
    "rent_top10_pl_2019 = np.sum(top10_pl_2019)/10\n",
    "np.array(nomes),label_2019[pos],rent_top10_pl_2019"
   ]
  },
  {
   "source": [
    "RENTABILIDADE DAS TOP 10 MAIORES ROES DA IBOVESPA"
   ],
   "cell_type": "markdown",
   "metadata": {}
  },
  {
   "cell_type": "code",
   "execution_count": 36,
   "metadata": {},
   "outputs": [
    {
     "output_type": "execute_result",
     "data": {
      "text/plain": [
       "(array(['BRKM5', 'ECOR3', 'SMLS3', 'BBSE3', 'NTCO3', 'CIEL3', 'EGIE3',\n",
       "        'CVCB3', 'BRAP4', 'IRBR3'], dtype='<U5'),\n",
       " array([8, 3, 5, 3, 4, 3, 3, 0, 2, 7], dtype=object),\n",
       " 1.13323258814654)"
      ]
     },
     "metadata": {},
     "execution_count": 36
    }
   ],
   "source": [
    "top10_roe_2017 = []\n",
    "aux=roe_2017.copy()\n",
    "for i in range(10):\n",
    "    top10_roe_2017.append(rent_2017[np.argmax(aux)])\n",
    "    aux[np.argmax(aux)]=0\n",
    "nomes=[]\n",
    "pos=[]\n",
    "for i in range(10):\n",
    "    J = np.where(rent_2017==top10_roe_2017[i])[0][0]\n",
    "    nomes.append(n2017[J])\n",
    "    pos.append(J)\n",
    "rent_top10_roe_2017 = np.sum(top10_roe_2017)/10\n",
    "np.array(nomes),label_2017[pos],rent_top10_roe_2017"
   ]
  },
  {
   "cell_type": "code",
   "execution_count": 37,
   "metadata": {},
   "outputs": [
    {
     "output_type": "execute_result",
     "data": {
      "text/plain": [
       "(array(['MRFG3', 'SMLS3', 'ECOR3', 'CSNA3', 'BBSE3', 'BRKM5', 'EGIE3',\n",
       "        'BRDT3', 'IRBR3', 'CIEL3'], dtype='<U5'),\n",
       " array([6, 2, 6, 3, 5, 4, 4, 7, 4, 9], dtype=object),\n",
       " 1.3693402683644622)"
      ]
     },
     "metadata": {},
     "execution_count": 37
    }
   ],
   "source": [
    "top10_roe_2018 = []\n",
    "aux=roe_2018.copy()\n",
    "for i in range(10):\n",
    "    top10_roe_2018.append(rent_2018[np.argmax(aux)])\n",
    "    aux[np.argmax(aux)]=0\n",
    "nomes=[]\n",
    "pos=[]\n",
    "for i in range(10):\n",
    "    J = np.where(rent_2018==top10_roe_2018[i])[0][0]\n",
    "    nomes.append(n2018[J])\n",
    "    pos.append(J)\n",
    "rent_top10_roe_2018 = np.sum(top10_roe_2018)/10\n",
    "np.array(nomes),label_2018[pos],rent_top10_roe_2018"
   ]
  },
  {
   "cell_type": "code",
   "execution_count": 87,
   "metadata": {},
   "outputs": [
    {
     "output_type": "execute_result",
     "data": {
      "text/plain": [
       "(array(['BBSE3', 'AZUL4', 'SMLS3', 'MRFG3', 'EGIE3', 'IRBR3', 'EQTL3',\n",
       "        'QUAL3', 'BRDT3', 'LREN3'], dtype='<U5'),\n",
       " array([8, 4, 4, 0, 9, 0, 3, 0, 2, 1], dtype=object),\n",
       " 0.820480466420203)"
      ]
     },
     "metadata": {},
     "execution_count": 87
    }
   ],
   "source": [
    "top10_roe_2019 = []\n",
    "aux=roe_2019.copy()\n",
    "for i in range(10):\n",
    "    top10_roe_2019.append(rent_2019[np.argmax(aux)])\n",
    "    aux[np.argmax(aux)]=0\n",
    "nomes=[]\n",
    "pos=[]\n",
    "for i in range(10):\n",
    "    J = np.where(rent_2019==top10_roe_2019[i])[0][0]\n",
    "    nomes.append(n2019[J])\n",
    "    pos.append(J)\n",
    "rent_top10_roe_2019 = np.sum(top10_roe_2019)/10\n",
    "np.array(nomes),label_2019[pos],rent_top10_roe_2019"
   ]
  },
  {
   "source": [
    "RENTABILIDADE DA NOSSA ESTRATÉGIA, PEGANDO A AÇÃO DE CADA CLUSTER COM O MENOR P/L"
   ],
   "cell_type": "markdown",
   "metadata": {}
  },
  {
   "cell_type": "code",
   "execution_count": 55,
   "metadata": {},
   "outputs": [
    {
     "output_type": "execute_result",
     "data": {
      "text/plain": [
       "(array(['SBSP3', 'BBAS3', 'BRAP4', 'EGIE3', 'MRVE3', 'SMLS3', 'CMIG4',\n",
       "        'IRBR3', 'BRKM5', 'VIVT3'], dtype='<U5'),\n",
       " array([0, 1, 2, 3, 4, 5, 6, 7, 8, 9], dtype=object),\n",
       " 1.358262163370678)"
      ]
     },
     "metadata": {},
     "execution_count": 55
    }
   ],
   "source": [
    "nomes=[]\n",
    "pos=[]\n",
    "carteira_pl_2017=np.zeros(10)\n",
    "aux=100*np.ones(10)\n",
    "for i in range(10):\n",
    "    for j in range(len(pl_2017)):\n",
    "        if label_2017[j] == i:\n",
    "            if pl_2017[j] > 0 and pl_2017[j] < aux[i]:\n",
    "                carteira_pl_2017[i]= rent_2017[j]\n",
    "                aux[i] = pl_2017[j]\n",
    "for i in range(10):\n",
    "    J = np.where(rent_2017==carteira_pl_2017[i])[0][0]\n",
    "    nomes.append(n2017[J])\n",
    "    pos.append(J)\n",
    "rent_carteira_pl_2017 = np.sum(carteira_pl_2017)/10\n",
    "np.array(nomes),label_2017[pos],rent_carteira_pl_2017"
   ]
  },
  {
   "cell_type": "code",
   "execution_count": 56,
   "metadata": {},
   "outputs": [
    {
     "output_type": "execute_result",
     "data": {
      "text/plain": [
       "(array(['VIVT3', 'BRML3', 'SMLS3', 'CSNA3', 'EGIE3', 'MRVE3', 'MRFG3',\n",
       "        'BRDT3', 'ELET3', 'ENBR3'], dtype='<U5'),\n",
       " array([0, 1, 2, 3, 4, 5, 6, 7, 8, 9], dtype=object),\n",
       " 1.5353840577187428)"
      ]
     },
     "metadata": {},
     "execution_count": 56
    }
   ],
   "source": [
    "nomes=[]\n",
    "carteira_pl_2018=np.zeros(10)\n",
    "aux=100*np.ones(10)\n",
    "pos=[]\n",
    "for i in range(10):\n",
    "    for j in range(len(pl_2018)):\n",
    "        if label_2018[j] == i:\n",
    "            if pl_2018[j] > 0 and pl_2018[j] < aux[i]:\n",
    "                carteira_pl_2018[i]= rent_2018[j]\n",
    "                aux[i] = pl_2018[j]\n",
    "for i in range(10):\n",
    "    J = np.where(rent_2018==carteira_pl_2018[i])[0][0]\n",
    "    nomes.append(n2018[J])\n",
    "    pos.append(J)\n",
    "rent_carteira_pl_2018 = np.sum(carteira_pl_2018)/10\n",
    "np.array(nomes),label_2018[pos],rent_carteira_pl_2018"
   ]
  },
  {
   "cell_type": "code",
   "execution_count": 57,
   "metadata": {},
   "outputs": [
    {
     "output_type": "execute_result",
     "data": {
      "text/plain": [
       "(array(['JBSS3', 'BRML3', 'ELET3', 'EQTL3', 'SMLS3', 'PETR4', 'BBAS3',\n",
       "        'CSNA3', 'BBSE3', 'TIMS3'], dtype='<U5'),\n",
       " array([0, 1, 2, 3, 4, 5, 6, 7, 8, 9], dtype=object),\n",
       " 1.0100619345272934)"
      ]
     },
     "metadata": {},
     "execution_count": 57
    }
   ],
   "source": [
    "nomes=[]\n",
    "pos=[]\n",
    "carteira_pl_2019=np.zeros(10)\n",
    "aux=100*np.ones(10)\n",
    "for i in range(10):\n",
    "    for j in range(len(pl_2019)):\n",
    "        if label_2019[j] == i:\n",
    "            if pl_2019[j] > 0 and pl_2019[j] < aux[i]:\n",
    "                carteira_pl_2019[i]= rent_2019[j]\n",
    "                aux[i] = pl_2019[j]\n",
    "for i in range(10):\n",
    "    J = np.where(rent_2019==carteira_pl_2019[i])[0][0]\n",
    "    nomes.append(n2019[J])\n",
    "    pos.append(J)\n",
    "rent_carteira_pl_2019 = np.sum(carteira_pl_2019)/10\n",
    "np.array(nomes),label_2019[pos],rent_carteira_pl_2019"
   ]
  },
  {
   "source": [
    "RENTABILIDADE DA NOSSA ESTRATÉGIA, PEGANDO A AÇÃO DE CADA CLUSTER COM O MAIOR ROE"
   ],
   "cell_type": "markdown",
   "metadata": {}
  },
  {
   "cell_type": "code",
   "execution_count": 58,
   "metadata": {},
   "outputs": [
    {
     "output_type": "execute_result",
     "data": {
      "text/plain": [
       "(array(['CVCB3', 'ITUB4', 'BRAP4', 'ECOR3', 'NTCO3', 'SMLS3', 'CMIG4',\n",
       "        'IRBR3', 'BRKM5', 'FLRY3'], dtype='<U5'),\n",
       " array([0, 1, 2, 3, 4, 5, 6, 7, 8, 9], dtype=object),\n",
       " 1.2698575544797777)"
      ]
     },
     "metadata": {},
     "execution_count": 58
    }
   ],
   "source": [
    "nomes=[]\n",
    "pos=[]\n",
    "carteira_roe_2017=np.zeros(10)\n",
    "aux=np.zeros(10)\n",
    "for i in range(10):\n",
    "    for j in range(len(roe_2017)):\n",
    "        if label_2017[j] == i:\n",
    "            if roe_2017[j] > 0 and roe_2017[j] > aux[i]:\n",
    "                carteira_roe_2017[i]= rent_2017[j]\n",
    "                aux[i] = roe_2017[j]\n",
    "for i in range(10):\n",
    "    J = np.where(rent_2017==carteira_roe_2017[i])[0][0]\n",
    "    nomes.append(n2017[J])\n",
    "    pos.append(J)\n",
    "rent_carteira_roe_2017 = np.sum(carteira_roe_2017)/10\n",
    "np.array(nomes),label_2017[pos],rent_carteira_roe_2017"
   ]
  },
  {
   "cell_type": "code",
   "execution_count": 91,
   "metadata": {},
   "outputs": [
    {
     "output_type": "execute_result",
     "data": {
      "text/plain": [
       "(array(['ABEV3', 'LREN3', 'SMLS3', 'CSNA3', 'BRKM5', 'BBSE3', 'MRFG3',\n",
       "        'BRDT3', 'ELET3', 'CIEL3'], dtype='<U5'),\n",
       " array([0, 1, 2, 3, 4, 5, 6, 7, 8, 9], dtype=object),\n",
       " 1.3283265968481364)"
      ]
     },
     "metadata": {},
     "execution_count": 91
    }
   ],
   "source": [
    "nomes=[]\n",
    "pos=[]\n",
    "carteira_roe_2018=np.zeros(10)\n",
    "aux=np.zeros(10)\n",
    "for i in range(10):\n",
    "    for j in range(len(roe_2018)):\n",
    "        if label_2018[j] == i:\n",
    "            if roe_2018[j] > 0 and roe_2018[j] > aux[i]:\n",
    "                carteira_roe_2018[i]= rent_2018[j]\n",
    "                aux[i] = roe_2018[j]\n",
    "for i in range(10):\n",
    "    J = np.where(rent_2018==carteira_roe_2018[i])[0][0]\n",
    "    nomes.append(n2018[J])\n",
    "    pos.append(J)\n",
    "rent_carteira_roe_2018 = np.sum(carteira_roe_2018)/10\n",
    "np.array(nomes),label_2018[pos],rent_carteira_roe_2018"
   ]
  },
  {
   "cell_type": "code",
   "execution_count": 81,
   "metadata": {},
   "outputs": [
    {
     "output_type": "execute_result",
     "data": {
      "text/plain": [
       "(array(['MRFG3', 'LREN3', 'BRDT3', 'EQTL3', 'AZUL4', 'PETR3', 'ITUB4',\n",
       "        'CSNA3', 'BBSE3', 'EGIE3'], dtype='<U5'),\n",
       " array([0, 1, 2, 3, 4, 5, 6, 7, 8, 9], dtype=object),\n",
       " 1.0406869338544014)"
      ]
     },
     "metadata": {},
     "execution_count": 81
    }
   ],
   "source": [
    "nomes=[]\n",
    "pos=[]\n",
    "carteira_roe_2019=np.zeros(10)\n",
    "aux=np.zeros(10)\n",
    "for i in range(10):\n",
    "    for j in range(len(roe_2019)):\n",
    "        if label_2019[j] == i:\n",
    "            if roe_2019[j] > 0 and roe_2019[j] > aux[i]:\n",
    "                carteira_roe_2019[i]= rent_2019[j]\n",
    "                aux[i] = roe_2019[j]\n",
    "for i in range(10):\n",
    "    J = np.where(rent_2019==carteira_roe_2019[i])[0][0]\n",
    "    nomes.append(n2019[J])\n",
    "    pos.append(J)\n",
    "rent_carteira_roe_2019 = np.sum(carteira_roe_2019)/10\n",
    "np.array(nomes),label_2019[pos],rent_carteira_roe_2019"
   ]
  },
  {
   "source": [
    "COMPARAÇÕES, CAPITAL INICIAL DE 10.000 EM CADA UM DOS CASOS"
   ],
   "cell_type": "markdown",
   "metadata": {}
  },
  {
   "cell_type": "code",
   "execution_count": 88,
   "metadata": {},
   "outputs": [],
   "source": [
    "C = 10_000\n",
    "a1 = C*bova[0]*bova[1]*bova[2]\n",
    "a2 = C*mercado[0]*mercado[1]*mercado[2]\n",
    "a3 = C*rent_top10_pl_2017 *rent_top10_pl_2018*rent_top10_pl_2019\n",
    "a4 = C*rent_top10_roe_2017 *rent_top10_roe_2018*rent_top10_roe_2019\n",
    "a5 = C*rent_carteira_pl_2017*rent_carteira_pl_2018*rent_carteira_pl_2019\n",
    "a6 = C*rent_carteira_roe_2017*rent_carteira_roe_2018*rent_carteira_roe_2019"
   ]
  },
  {
   "cell_type": "code",
   "execution_count": 89,
   "metadata": {},
   "outputs": [],
   "source": [
    "comparacao={}\n",
    "comparacao['IBOVESPA'] = a1\n",
    "comparacao['MÉDIA DO MERCADO'] = a2\n",
    "comparacao['TOP 10 PREÇO/LUCRO'] = a3\n",
    "comparacao['TOP 10 ROE'] = a4\n",
    "comparacao['CLUSTERING + PREÇO/LUCRO'] = a5\n",
    "comparacao['CLUSTERING + ROE'] = a6"
   ]
  },
  {
   "cell_type": "code",
   "execution_count": 90,
   "metadata": {},
   "outputs": [
    {
     "output_type": "execute_result",
     "data": {
      "text/plain": [
       "{'IBOVESPA': 15191.744161913024,\n",
       " 'MÉDIA DO MERCADO': 17822.99106712762,\n",
       " 'TOP 10 PREÇO/LUCRO': 17827.25157886982,\n",
       " 'TOP 10 ROE': 12732.060120948638,\n",
       " 'CLUSTERING + PREÇO/LUCRO': 21064.377741724602,\n",
       " 'CLUSTERING + ROE': 17554.156964858874}"
      ]
     },
     "metadata": {},
     "execution_count": 90
    }
   ],
   "source": [
    "comparacao"
   ]
  },
  {
   "cell_type": "code",
   "execution_count": null,
   "metadata": {},
   "outputs": [],
   "source": []
  }
 ]
}